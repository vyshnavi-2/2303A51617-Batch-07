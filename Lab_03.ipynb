{
  "nbformat": 4,
  "nbformat_minor": 0,
  "metadata": {
    "colab": {
      "provenance": [],
      "include_colab_link": true
    },
    "kernelspec": {
      "name": "python3",
      "display_name": "Python 3"
    },
    "language_info": {
      "name": "python"
    }
  },
  "cells": [
    {
      "cell_type": "markdown",
      "metadata": {
        "id": "view-in-github",
        "colab_type": "text"
      },
      "source": [
        "<a href=\"https://colab.research.google.com/github/vyshnavi-2/2303A51617-Batch-07/blob/main/Lab_03.ipynb\" target=\"_parent\"><img src=\"https://colab.research.google.com/assets/colab-badge.svg\" alt=\"Open In Colab\"/></a>"
      ]
    },
    {
      "cell_type": "markdown",
      "source": [
        "2303A51617\n",
        "Batch-07"
      ],
      "metadata": {
        "id": "inCNXry4yoyF"
      }
    },
    {
      "cell_type": "markdown",
      "source": [
        "**Matrix Addition and Subtraction**"
      ],
      "metadata": {
        "id": "AqRx9-AhyjXd"
      }
    },
    {
      "cell_type": "code",
      "execution_count": 1,
      "metadata": {
        "id": "xknpumhKwMUH"
      },
      "outputs": [],
      "source": [
        "import numpy as np"
      ]
    },
    {
      "cell_type": "code",
      "source": [
        "#Creation of 2D arrays\n",
        "arr2D_1=np.array([[1,2,3],[4,5,6],[7,8,9]])\n",
        "arr2D_2=np.array([[15,11,20],[19,24,15],[26,17,29]])"
      ],
      "metadata": {
        "id": "zMQ3U7ndwXx8"
      },
      "execution_count": 2,
      "outputs": []
    },
    {
      "cell_type": "code",
      "source": [
        "#Element wise Addition\n",
        "add_arr=np.add(arr2D_1,arr2D_2)\n",
        "\n",
        "#Element wise Subtraction\n",
        "sub_arr=np.subtract(arr2D_2,arr2D_1)\n",
        "\n"
      ],
      "metadata": {
        "id": "JJNrwAQnxCoI"
      },
      "execution_count": 3,
      "outputs": []
    },
    {
      "cell_type": "code",
      "source": [
        "#Display original matrices and results\n",
        "print(\"Original Matrix 1:\")\n",
        "print(arr2D_1)\n",
        "print(\"Original Matrix 2:\")\n",
        "print(arr2D_2)\n",
        "\n",
        "#results after addition and subtraction\n",
        "print(\"Addition Result:\")\n",
        "print(add_arr)\n",
        "print(\"Subtraction Result:\")\n",
        "print(sub_arr)"
      ],
      "metadata": {
        "colab": {
          "base_uri": "https://localhost:8080/"
        },
        "id": "Y2YnNPOLxi7T",
        "outputId": "df432aeb-cbe7-44e8-e405-076d6eac5a6b"
      },
      "execution_count": 4,
      "outputs": [
        {
          "output_type": "stream",
          "name": "stdout",
          "text": [
            "Original Matrix 1:\n",
            "[[1 2 3]\n",
            " [4 5 6]\n",
            " [7 8 9]]\n",
            "Original Matrix 2:\n",
            "[[15 11 20]\n",
            " [19 24 15]\n",
            " [26 17 29]]\n",
            "Addition Result:\n",
            "[[16 13 23]\n",
            " [23 29 21]\n",
            " [33 25 38]]\n",
            "Subtraction Result:\n",
            "[[14  9 17]\n",
            " [15 19  9]\n",
            " [19  9 20]]\n"
          ]
        }
      ]
    },
    {
      "cell_type": "markdown",
      "source": [
        "**2D Matrix Multiplication (Dot Product)**"
      ],
      "metadata": {
        "id": "u7-EBI5Ayx0w"
      }
    },
    {
      "cell_type": "code",
      "source": [
        "#Create two compatible 2D arrays (e.g., 3x2 and 2x3)\n",
        "arr2D_3=np.array([[1,2],[4,5],[7,8]])\n",
        "arr2D_4=np.array([[15,11,20],[19,24,15]])"
      ],
      "metadata": {
        "id": "S4Ggv0Gsxq1G"
      },
      "execution_count": 5,
      "outputs": []
    },
    {
      "cell_type": "code",
      "source": [
        "#Use np.dot() or @ operator to perform dot product\n",
        "result_dot=np.dot(arr2D_3,arr2D_4)"
      ],
      "metadata": {
        "id": "WA-8V_QnzaLR"
      },
      "execution_count": 6,
      "outputs": []
    },
    {
      "cell_type": "code",
      "source": [
        "#Print intermediate and final results\n",
        "print(\"Matrix 1:\")\n",
        "print(arr2D_3)\n",
        "print(\"Matrix 2:\")\n",
        "print(arr2D_4)\n",
        "print(\"Dot Product Result:\")\n",
        "print(result_dot)"
      ],
      "metadata": {
        "colab": {
          "base_uri": "https://localhost:8080/"
        },
        "id": "BSqOHBAmzh6s",
        "outputId": "96ce4ba5-bbab-4d8b-f23c-dfa141cc17f2"
      },
      "execution_count": 7,
      "outputs": [
        {
          "output_type": "stream",
          "name": "stdout",
          "text": [
            "Matrix 1:\n",
            "[[1 2]\n",
            " [4 5]\n",
            " [7 8]]\n",
            "Matrix 2:\n",
            "[[15 11 20]\n",
            " [19 24 15]]\n",
            "Dot Product Result:\n",
            "[[ 53  59  50]\n",
            " [155 164 155]\n",
            " [257 269 260]]\n"
          ]
        }
      ]
    },
    {
      "cell_type": "code",
      "source": [
        "#Ensure dimensions match for multiplication\n",
        "if arr2D_3.shape[1] == arr2D_4.shape[0]:\n",
        "    result_dot = np.dot(arr2D_3, arr2D_4)\n",
        "    print(\"Dot Product Result:\")\n",
        "    print(result_dot)"
      ],
      "metadata": {
        "colab": {
          "base_uri": "https://localhost:8080/"
        },
        "id": "_YHHLSJkzoFq",
        "outputId": "16a09430-1df8-47fe-d328-d905b171240f"
      },
      "execution_count": 8,
      "outputs": [
        {
          "output_type": "stream",
          "name": "stdout",
          "text": [
            "Dot Product Result:\n",
            "[[ 53  59  50]\n",
            " [155 164 155]\n",
            " [257 269 260]]\n"
          ]
        }
      ]
    }
  ]
}