{
  "nbformat": 4,
  "nbformat_minor": 0,
  "metadata": {
    "colab": {
      "provenance": [],
      "include_colab_link": true
    },
    "kernelspec": {
      "name": "python3",
      "display_name": "Python 3"
    },
    "language_info": {
      "name": "python"
    }
  },
  "cells": [
    {
      "cell_type": "markdown",
      "metadata": {
        "id": "view-in-github",
        "colab_type": "text"
      },
      "source": [
        "<a href=\"https://colab.research.google.com/github/vyshnavi-2/2303A51617-Batch-07/blob/main/Lab_2_py.ipynb\" target=\"_parent\"><img src=\"https://colab.research.google.com/assets/colab-badge.svg\" alt=\"Open In Colab\"/></a>"
      ]
    },
    {
      "cell_type": "markdown",
      "source": [
        "*2303A51617*\n",
        "Batch-07\n",
        "Lab-02\n"
      ],
      "metadata": {
        "id": "RDRpkG16-Bfj"
      }
    },
    {
      "cell_type": "markdown",
      "source": [
        "**1.Student Grades Analysis Using NumPy Arrays**"
      ],
      "metadata": {
        "id": "slDie7v39rbZ"
      }
    },
    {
      "cell_type": "code",
      "execution_count": 1,
      "metadata": {
        "id": "EY9_ZSMSxneQ"
      },
      "outputs": [],
      "source": [
        "import numpy as np"
      ]
    },
    {
      "cell_type": "code",
      "source": [
        "marks=np.array([[70,95,99],[93,85,76],[67,91,55]])\n",
        "\n",
        "print(np.mean(marks))\n",
        "print(\"The average marks of students:\",np.mean(marks))\n",
        "print(np.min(marks))\n",
        "print(\"The minimum marks of students:\",np.min(marks))\n",
        "print(np.max(marks))\n",
        "print(\"The maximum marks of students:\",np.max(marks))"
      ],
      "metadata": {
        "colab": {
          "base_uri": "https://localhost:8080/"
        },
        "id": "PvWaHs_-x-bQ",
        "outputId": "4c169457-6242-486c-dbf4-7006e3bc629b"
      },
      "execution_count": 3,
      "outputs": [
        {
          "output_type": "stream",
          "name": "stdout",
          "text": [
            "81.22222222222223\n",
            "The average marks of students: 81.22222222222223\n",
            "55\n",
            "The minimum marks of students: 55\n",
            "99\n",
            "The maximum marks of students: 99\n"
          ]
        }
      ]
    },
    {
      "cell_type": "code",
      "source": [
        "#Use slicing to retrieve marks of specific students\n",
        "print(marks[2])"
      ],
      "metadata": {
        "colab": {
          "base_uri": "https://localhost:8080/"
        },
        "id": "VsEMbGAX0fRh",
        "outputId": "ba9c63cf-b69a-4339-f1d7-a0b8ca128bb8"
      },
      "execution_count": 4,
      "outputs": [
        {
          "output_type": "stream",
          "name": "stdout",
          "text": [
            "[67 91 55]\n"
          ]
        }
      ]
    },
    {
      "cell_type": "code",
      "source": [
        "#Use boolean indexing to find students scoring above 80\n",
        "above_80=marks>80\n",
        "print(\"marks above 80:\",above_80)"
      ],
      "metadata": {
        "colab": {
          "base_uri": "https://localhost:8080/"
        },
        "id": "tJIDdbGT01s3",
        "outputId": "dc9a3e29-d19e-4f26-95c8-0a3dffbeeca1"
      },
      "execution_count": 5,
      "outputs": [
        {
          "output_type": "stream",
          "name": "stdout",
          "text": [
            "marks above 80: [[False  True  True]\n",
            " [ True  True False]\n",
            " [False  True False]]\n"
          ]
        }
      ]
    },
    {
      "cell_type": "code",
      "source": [
        "#Reshape the array to observe subject-wise performance\n",
        "reshaped_arr=marks.T\n",
        "print(\"Subject wise performance:\",reshaped_arr)\n"
      ],
      "metadata": {
        "colab": {
          "base_uri": "https://localhost:8080/"
        },
        "id": "-gGVi7Iu1dKN",
        "outputId": "d2bdccdc-cba4-48e2-e747-9e52829a2b60"
      },
      "execution_count": 6,
      "outputs": [
        {
          "output_type": "stream",
          "name": "stdout",
          "text": [
            "Subject wise performance: [[70 93 67]\n",
            " [95 85 91]\n",
            " [99 76 55]]\n"
          ]
        }
      ]
    },
    {
      "cell_type": "markdown",
      "source": [
        "**2.Employee Salary Analysis with pandas DataFrame**"
      ],
      "metadata": {
        "id": "fSmdLuDA9vPh"
      }
    },
    {
      "cell_type": "code",
      "source": [
        "import pandas as pd"
      ],
      "metadata": {
        "id": "2Eu7uTXi96lu"
      },
      "execution_count": 7,
      "outputs": []
    },
    {
      "cell_type": "code",
      "source": [
        "data={\n",
        "    'EmployeeName':['John','Jane','Mike','Emily','David'],\n",
        "    'EmployeeID':[101,102,103,104,105],\n",
        "    'Department':['HR','IT','Finance','HR','IT'],\n",
        "    'Salary':[60000,75000,55000,62000,70000]\n",
        "}"
      ],
      "metadata": {
        "id": "f_C1C3Ew-XgR"
      },
      "execution_count": 8,
      "outputs": []
    },
    {
      "cell_type": "code",
      "source": [
        "#Filter employees with salary > 50,000\n",
        "df=pd.DataFrame(data)\n",
        "filtered_df=df[df['Salary']>50000]\n",
        "print(filtered_df)"
      ],
      "metadata": {
        "colab": {
          "base_uri": "https://localhost:8080/"
        },
        "id": "ASnBsZ2v-1F-",
        "outputId": "d8688d82-d5d9-474c-d71c-7b9ca4132c6f"
      },
      "execution_count": 9,
      "outputs": [
        {
          "output_type": "stream",
          "name": "stdout",
          "text": [
            "  EmployeeName  EmployeeID Department  Salary\n",
            "0         John         101         HR   60000\n",
            "1         Jane         102         IT   75000\n",
            "2         Mike         103    Finance   55000\n",
            "3        Emily         104         HR   62000\n",
            "4        David         105         IT   70000\n"
          ]
        }
      ]
    },
    {
      "cell_type": "code",
      "source": [
        "#Sort the DataFrame by salary in descending order\n",
        "sorted_df=df.sort_values(by='Salary',ascending=False)\n",
        "print(sorted_df)"
      ],
      "metadata": {
        "colab": {
          "base_uri": "https://localhost:8080/"
        },
        "id": "5JDoymVX-93Q",
        "outputId": "985b7dfc-d253-48a2-e81e-49b37e5b7537"
      },
      "execution_count": 10,
      "outputs": [
        {
          "output_type": "stream",
          "name": "stdout",
          "text": [
            "  EmployeeName  EmployeeID Department  Salary\n",
            "1         Jane         102         IT   75000\n",
            "4        David         105         IT   70000\n",
            "3        Emily         104         HR   62000\n",
            "0         John         101         HR   60000\n",
            "2         Mike         103    Finance   55000\n"
          ]
        }
      ]
    },
    {
      "cell_type": "code",
      "source": [
        "#Add a new column for Bonus (10% of salary)\n",
        "df['Bonus']=0.1*df['Salary']\n",
        "print(df)"
      ],
      "metadata": {
        "colab": {
          "base_uri": "https://localhost:8080/"
        },
        "id": "V5zb-i9C_GV9",
        "outputId": "0b00bf73-2c4b-4236-b2c4-cd6584ba7af6"
      },
      "execution_count": 11,
      "outputs": [
        {
          "output_type": "stream",
          "name": "stdout",
          "text": [
            "  EmployeeName  EmployeeID Department  Salary   Bonus\n",
            "0         John         101         HR   60000  6000.0\n",
            "1         Jane         102         IT   75000  7500.0\n",
            "2         Mike         103    Finance   55000  5500.0\n",
            "3        Emily         104         HR   62000  6200.0\n",
            "4        David         105         IT   70000  7000.0\n"
          ]
        }
      ]
    },
    {
      "cell_type": "code",
      "source": [
        "#Calculate total salary expense including bonuses\n",
        "total_expense=df['Salary'].sum()+df['Bonus'].sum()\n",
        "print(\"Total salary expense including bonuses:\",total_expense)"
      ],
      "metadata": {
        "colab": {
          "base_uri": "https://localhost:8080/"
        },
        "id": "Bij1bW9I_LuU",
        "outputId": "2ad798b0-3db2-4565-fd2f-864929f01970"
      },
      "execution_count": 12,
      "outputs": [
        {
          "output_type": "stream",
          "name": "stdout",
          "text": [
            "Total salary expense including bonuses: 354200.0\n"
          ]
        }
      ]
    },
    {
      "cell_type": "code",
      "source": [
        "#Save the DataFrame to a CSV file\n",
        "df.to_csv('employee_data.csv',index=False)\n",
        "print(\"Saved to employee_salary_with_bonus.csv\")"
      ],
      "metadata": {
        "colab": {
          "base_uri": "https://localhost:8080/"
        },
        "id": "W102DAV-_bok",
        "outputId": "169885fc-414a-4e01-eef9-e44262547f0b"
      },
      "execution_count": 13,
      "outputs": [
        {
          "output_type": "stream",
          "name": "stdout",
          "text": [
            "Saved to employee_salary_with_bonus.csv\n"
          ]
        }
      ]
    }
  ]
}