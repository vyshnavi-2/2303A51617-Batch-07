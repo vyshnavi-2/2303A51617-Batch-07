{
  "nbformat": 4,
  "nbformat_minor": 0,
  "metadata": {
    "colab": {
      "provenance": [],
      "include_colab_link": true
    },
    "kernelspec": {
      "name": "python3",
      "display_name": "Python 3"
    },
    "language_info": {
      "name": "python"
    }
  },
  "cells": [
    {
      "cell_type": "markdown",
      "metadata": {
        "id": "view-in-github",
        "colab_type": "text"
      },
      "source": [
        "<a href=\"https://colab.research.google.com/github/vyshnavi-2/2303A51617-Batch-07/blob/main/Lab_05.ipynb\" target=\"_parent\"><img src=\"https://colab.research.google.com/assets/colab-badge.svg\" alt=\"Open In Colab\"/></a>"
      ]
    },
    {
      "cell_type": "markdown",
      "source": [
        "Merge Product and Sales Datasets and Compute Aggregate\n",
        "Statistics Using pandas bold text"
      ],
      "metadata": {
        "id": "6aSMvmV76Jwe"
      }
    },
    {
      "cell_type": "code",
      "execution_count": 1,
      "metadata": {
        "id": "HYTchj8858_C"
      },
      "outputs": [],
      "source": [
        "import pandas as pd"
      ]
    },
    {
      "cell_type": "code",
      "source": [
        "products = pd.DataFrame({\n",
        "    \"product_id\": [101, 102, 103, 104, 105],\n",
        "    \"product_name\": [\"Laptop\", \"Computer\", \"Headphones\", \"Keyboard\", \"Smartphone\"],\n",
        "    \"category\": [\"Electronics\", \"Electronics\", \"Accessories\", \"Accessories\", \"Electronics\"],\n",
        "    \"price\": [60000, 25000, 2000, 1500, 12000]\n",
        "})"
      ],
      "metadata": {
        "id": "pW5n1aUb6RoN"
      },
      "execution_count": 2,
      "outputs": []
    },
    {
      "cell_type": "code",
      "source": [
        "sales = pd.DataFrame({\n",
        "    \"sale_id\": [1, 2, 3, 4, 5, 6, 7],\n",
        "    \"product_id\": [101, 102, 103, 101, 104, 106, 105],  # note: 106 doesn’t exist in products\n",
        "    \"quantity\": [2, 5, 10, 1, 4, 3, 2]\n",
        "})"
      ],
      "metadata": {
        "id": "Pm1tCJ2y6dPs"
      },
      "execution_count": 3,
      "outputs": []
    },
    {
      "cell_type": "code",
      "source": [
        "print(products,\"\\n\")\n",
        "print(sales)"
      ],
      "metadata": {
        "colab": {
          "base_uri": "https://localhost:8080/"
        },
        "id": "e148ifxi6lAA",
        "outputId": "e6df008b-1d70-40f3-b2b0-cdbdfafef041"
      },
      "execution_count": 4,
      "outputs": [
        {
          "output_type": "stream",
          "name": "stdout",
          "text": [
            "   product_id product_name     category  price\n",
            "0         101       Laptop  Electronics  60000\n",
            "1         102     Computer  Electronics  25000\n",
            "2         103   Headphones  Accessories   2000\n",
            "3         104     Keyboard  Accessories   1500\n",
            "4         105   Smartphone  Electronics  12000 \n",
            "\n",
            "   sale_id  product_id  quantity\n",
            "0        1         101         2\n",
            "1        2         102         5\n",
            "2        3         103        10\n",
            "3        4         101         1\n",
            "4        5         104         4\n",
            "5        6         106         3\n",
            "6        7         105         2\n"
          ]
        }
      ]
    },
    {
      "cell_type": "code",
      "source": [
        "#Merge them using product_id\n",
        "inner_merge=pd.merge(products,sales,on='product_id',how='inner')\n",
        "outer_merge=pd.merge(products,sales,on='product_id',how='outer')"
      ],
      "metadata": {
        "id": "PtZm3PXm61k0"
      },
      "execution_count": 5,
      "outputs": []
    },
    {
      "cell_type": "code",
      "source": [
        "#Perform inner and outer joins\n",
        "print(inner_merge,\"\\n\")\n",
        "print(outer_merge)"
      ],
      "metadata": {
        "colab": {
          "base_uri": "https://localhost:8080/"
        },
        "id": "4RFHrFaJ61jI",
        "outputId": "4baf9364-3c78-4baa-8a8a-7957808e8f82"
      },
      "execution_count": 6,
      "outputs": [
        {
          "output_type": "stream",
          "name": "stdout",
          "text": [
            "   product_id product_name     category  price  sale_id  quantity\n",
            "0         101       Laptop  Electronics  60000        1         2\n",
            "1         101       Laptop  Electronics  60000        4         1\n",
            "2         102     Computer  Electronics  25000        2         5\n",
            "3         103   Headphones  Accessories   2000        3        10\n",
            "4         104     Keyboard  Accessories   1500        5         4\n",
            "5         105   Smartphone  Electronics  12000        7         2 \n",
            "\n",
            "   product_id product_name     category    price  sale_id  quantity\n",
            "0         101       Laptop  Electronics  60000.0        1         2\n",
            "1         101       Laptop  Electronics  60000.0        4         1\n",
            "2         102     Computer  Electronics  25000.0        2         5\n",
            "3         103   Headphones  Accessories   2000.0        3        10\n",
            "4         104     Keyboard  Accessories   1500.0        5         4\n",
            "5         105   Smartphone  Electronics  12000.0        7         2\n",
            "6         106          NaN          NaN      NaN        6         3\n"
          ]
        }
      ]
    },
    {
      "cell_type": "code",
      "source": [
        "#Compute statistics like total revenue, average price, and product-wise sales.\n",
        "inner_merge['revenue']=inner_merge['price']*inner_merge['quantity']\n",
        "print(inner_merge)\n",
        "total_revenue=inner_merge['revenue'].sum()\n",
        "print('Total Revenue:',total_revenue)\n",
        "print('Average Price:',inner_merge['price'].mean())\n",
        "product_wise_sales=inner_merge.groupby('product_name')['quantity'].sum()\n",
        "print(product_wise_sales)\n"
      ],
      "metadata": {
        "colab": {
          "base_uri": "https://localhost:8080/"
        },
        "id": "I8g-wZId77nI",
        "outputId": "d651026a-9a69-446a-fad7-6454704308a9"
      },
      "execution_count": 7,
      "outputs": [
        {
          "output_type": "stream",
          "name": "stdout",
          "text": [
            "   product_id product_name     category  price  sale_id  quantity  revenue\n",
            "0         101       Laptop  Electronics  60000        1         2   120000\n",
            "1         101       Laptop  Electronics  60000        4         1    60000\n",
            "2         102     Computer  Electronics  25000        2         5   125000\n",
            "3         103   Headphones  Accessories   2000        3        10    20000\n",
            "4         104     Keyboard  Accessories   1500        5         4     6000\n",
            "5         105   Smartphone  Electronics  12000        7         2    24000\n",
            "Total Revenue: 355000\n",
            "Average Price: 26750.0\n",
            "product_name\n",
            "Computer       5\n",
            "Headphones    10\n",
            "Keyboard       4\n",
            "Laptop         3\n",
            "Smartphone     2\n",
            "Name: quantity, dtype: int64\n"
          ]
        }
      ]
    },
    {
      "cell_type": "code",
      "source": [
        "#Group by product category and find best-selling category.\n",
        "category_sales=inner_merge.groupby('category')['quantity'].sum()\n",
        "best_selling_category=category_sales.idxmax()\n",
        "print('Best Selling Category:',best_selling_category)"
      ],
      "metadata": {
        "colab": {
          "base_uri": "https://localhost:8080/"
        },
        "id": "fEZqjv2a8e-8",
        "outputId": "656c0dc8-6f9f-4c03-8aa1-03d441b25d48"
      },
      "execution_count": 8,
      "outputs": [
        {
          "output_type": "stream",
          "name": "stdout",
          "text": [
            "Best Selling Category: Accessories\n"
          ]
        }
      ]
    },
    {
      "cell_type": "markdown",
      "source": [
        "Merge Teachers and Courses Datasets and Compute Aggregate Statistics\n"
      ],
      "metadata": {
        "id": "m8hOB0FY83Tu"
      }
    },
    {
      "cell_type": "code",
      "source": [
        "teacher=pd.DataFrame({\n",
        "    'teacher_id':[101,102,103,104,105],\n",
        "    'teacher_name':['John','Bob','Sara','Ann','Mike'],\n",
        "    'department':['Math','English','Physics','CompSci','Math']\n",
        "})\n",
        "courses = pd.DataFrame({\n",
        "    \"course_id\": [101, 102, 103, 104, 105, 106],\n",
        "    \"course_name\": [\"Algebra\", \"Physics\", \"Data Structures\", \"Calculus\", \"Chemistry\", \"AI\"],\n",
        "    \"teacher_id\": [1, 2, 3, 1, 2, 3],   # course assigned to teacher\n",
        "    \"hours_per_week\": [3, 4, 5, 3, 4, 6]  # workload\n",
        "})"
      ],
      "metadata": {
        "id": "QczOaRDA9EIz"
      },
      "execution_count": 9,
      "outputs": []
    },
    {
      "cell_type": "code",
      "source": [
        "print(teacher,\"\\n\")\n",
        "print(courses)"
      ],
      "metadata": {
        "colab": {
          "base_uri": "https://localhost:8080/"
        },
        "id": "ugRcjGxb9_no",
        "outputId": "c2c66f48-fff3-4b75-cb40-6358ba6ba1e8"
      },
      "execution_count": 10,
      "outputs": [
        {
          "output_type": "stream",
          "name": "stdout",
          "text": [
            "   teacher_id teacher_name department\n",
            "0         101         John       Math\n",
            "1         102          Bob    English\n",
            "2         103         Sara    Physics\n",
            "3         104          Ann    CompSci\n",
            "4         105         Mike       Math \n",
            "\n",
            "   course_id      course_name  teacher_id  hours_per_week\n",
            "0        101          Algebra           1               3\n",
            "1        102          Physics           2               4\n",
            "2        103  Data Structures           3               5\n",
            "3        104         Calculus           1               3\n",
            "4        105        Chemistry           2               4\n",
            "5        106               AI           3               6\n"
          ]
        }
      ]
    },
    {
      "cell_type": "code",
      "source": [
        "#Merge on teacher_id\n",
        "inner_merge=pd.merge(teacher,courses,on='teacher_id',how='inner')\n",
        "outer_merge=pd.merge(teacher,courses,on='teacher_id',how='outer')"
      ],
      "metadata": {
        "id": "rCm154fu-SUa"
      },
      "execution_count": 11,
      "outputs": []
    },
    {
      "cell_type": "code",
      "source": [
        "#Perform inner and left joins\n",
        "print(inner_merge,\"\\n\")\n",
        "print(outer_merge)"
      ],
      "metadata": {
        "colab": {
          "base_uri": "https://localhost:8080/"
        },
        "id": "jjyxwao8-VlV",
        "outputId": "c177c9fa-495a-4499-e27c-f1920894384e"
      },
      "execution_count": 12,
      "outputs": [
        {
          "output_type": "stream",
          "name": "stdout",
          "text": [
            "Empty DataFrame\n",
            "Columns: [teacher_id, teacher_name, department, course_id, course_name, hours_per_week]\n",
            "Index: [] \n",
            "\n",
            "    teacher_id teacher_name department  course_id      course_name  \\\n",
            "0            1          NaN        NaN      101.0          Algebra   \n",
            "1            1          NaN        NaN      104.0         Calculus   \n",
            "2            2          NaN        NaN      102.0          Physics   \n",
            "3            2          NaN        NaN      105.0        Chemistry   \n",
            "4            3          NaN        NaN      103.0  Data Structures   \n",
            "5            3          NaN        NaN      106.0               AI   \n",
            "6          101         John       Math        NaN              NaN   \n",
            "7          102          Bob    English        NaN              NaN   \n",
            "8          103         Sara    Physics        NaN              NaN   \n",
            "9          104          Ann    CompSci        NaN              NaN   \n",
            "10         105         Mike       Math        NaN              NaN   \n",
            "\n",
            "    hours_per_week  \n",
            "0              3.0  \n",
            "1              3.0  \n",
            "2              4.0  \n",
            "3              4.0  \n",
            "4              5.0  \n",
            "5              6.0  \n",
            "6              NaN  \n",
            "7              NaN  \n",
            "8              NaN  \n",
            "9              NaN  \n",
            "10             NaN  \n"
          ]
        }
      ]
    },
    {
      "cell_type": "code",
      "source": [
        "#Compute average courses per teacher\n",
        "print('Average Courses per Teacher:',inner_merge.groupby('teacher_name')['course_id'].count().mean())"
      ],
      "metadata": {
        "colab": {
          "base_uri": "https://localhost:8080/"
        },
        "id": "PoQSO1sf-j31",
        "outputId": "9ca767be-f1d5-40a7-b622-611089409cf9"
      },
      "execution_count": 13,
      "outputs": [
        {
          "output_type": "stream",
          "name": "stdout",
          "text": [
            "Average Courses per Teacher: nan\n"
          ]
        }
      ]
    },
    {
      "cell_type": "code",
      "source": [
        "#Group by department and calculate total workload\n",
        "department_workload=inner_merge.groupby('department')['hours_per_week'].sum()\n",
        "print(department_workload)"
      ],
      "metadata": {
        "colab": {
          "base_uri": "https://localhost:8080/"
        },
        "id": "JzaMKWi7-ntb",
        "outputId": "3b7a903f-3962-400e-90e1-ca965e9debaf"
      },
      "execution_count": 14,
      "outputs": [
        {
          "output_type": "stream",
          "name": "stdout",
          "text": [
            "Series([], Name: hours_per_week, dtype: int64)\n"
          ]
        }
      ]
    }
  ]
}