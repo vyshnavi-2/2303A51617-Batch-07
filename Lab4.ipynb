{
  "nbformat": 4,
  "nbformat_minor": 0,
  "metadata": {
    "colab": {
      "provenance": [],
      "authorship_tag": "ABX9TyPpSYezZ3RUyEIA/x+pnbQq",
      "include_colab_link": true
    },
    "kernelspec": {
      "name": "python3",
      "display_name": "Python 3"
    },
    "language_info": {
      "name": "python"
    }
  },
  "cells": [
    {
      "cell_type": "markdown",
      "metadata": {
        "id": "view-in-github",
        "colab_type": "text"
      },
      "source": [
        "<a href=\"https://colab.research.google.com/github/vyshnavi-2/2303A51617-Batch-07/blob/main/Lab4.ipynb\" target=\"_parent\"><img src=\"https://colab.research.google.com/assets/colab-badge.svg\" alt=\"Open In Colab\"/></a>"
      ]
    },
    {
      "cell_type": "markdown",
      "source": [
        "**Lab-04  2303A51617**\n",
        "\n",
        "Batch_07"
      ],
      "metadata": {
        "id": "E9w2o95738HU"
      }
    },
    {
      "cell_type": "markdown",
      "source": [
        "**1.Student Marks Analysis**"
      ],
      "metadata": {
        "id": "H2-voAQW4I8Y"
      }
    },
    {
      "cell_type": "code",
      "source": [
        "import pandas as pd"
      ],
      "metadata": {
        "id": "ah89XKaM0ae2"
      },
      "execution_count": 2,
      "outputs": []
    },
    {
      "cell_type": "code",
      "source": [
        "# Read the CSV file\n",
        "df = pd.read_csv(\"student_scores.csv\")\n",
        "print(\"Original Data:\")\n",
        "print(df, \"\\n\")"
      ],
      "metadata": {
        "colab": {
          "base_uri": "https://localhost:8080/"
        },
        "id": "Tv3h9IYd0rYI",
        "outputId": "dcf5a531-b4d1-4e6e-f45f-ff35447cb3f9"
      },
      "execution_count": 15,
      "outputs": [
        {
          "output_type": "stream",
          "name": "stdout",
          "text": [
            "Original Data:\n",
            "   Student_ID     Name  Math  Science  English\n",
            "0         101    Aarav  85.0     78.0     92.0\n",
            "1         102     Isha  90.0      NaN     88.0\n",
            "2         103   Vihaan  72.0     80.0      NaN\n",
            "3         104   Ananya   NaN     76.0     81.0\n",
            "4         105   Aditya  88.0     91.0     77.0\n",
            "5         106    Divya  95.0     89.0     94.0\n",
            "6         107  Krishna  68.0      NaN     72.0\n",
            "7         108   Saanvi  78.0     85.0     80.0\n",
            "8         109    Arjun  82.0     79.0      NaN\n",
            "9         110    Meera   NaN     84.0     90.0 \n",
            "\n"
          ]
        }
      ]
    },
    {
      "cell_type": "code",
      "source": [
        "# Fill missing subject marks with column-wise average\n",
        "df_filled = df.fillna(df.mean(numeric_only=True))\n",
        "\n",
        "print(\"After Filling Missing Values (with column averages):\")\n",
        "print(df_filled, \"\\n\")"
      ],
      "metadata": {
        "colab": {
          "base_uri": "https://localhost:8080/"
        },
        "id": "V96mSTcb2Kmw",
        "outputId": "c6951f5d-c6ba-4b37-9052-e4e79df9e0b5"
      },
      "execution_count": 16,
      "outputs": [
        {
          "output_type": "stream",
          "name": "stdout",
          "text": [
            "After Filling Missing Values (with column averages):\n",
            "   Student_ID     Name   Math  Science  English\n",
            "0         101    Aarav  85.00    78.00    92.00\n",
            "1         102     Isha  90.00    82.75    88.00\n",
            "2         103   Vihaan  72.00    80.00    84.25\n",
            "3         104   Ananya  82.25    76.00    81.00\n",
            "4         105   Aditya  88.00    91.00    77.00\n",
            "5         106    Divya  95.00    89.00    94.00\n",
            "6         107  Krishna  68.00    82.75    72.00\n",
            "7         108   Saanvi  78.00    85.00    80.00\n",
            "8         109    Arjun  82.00    79.00    84.25\n",
            "9         110    Meera  82.25    84.00    90.00 \n",
            "\n"
          ]
        }
      ]
    },
    {
      "cell_type": "code",
      "source": [
        "# Filter students who scored more than 75 in all subjects\n",
        "high_achievers = df_filled[(df_filled['Math'] > 75) &\n",
        "                           (df_filled['Science'] > 75) &\n",
        "                           (df_filled['English'] > 75)]\n",
        "\n",
        "print(\"High Achievers (scored > 75 in all subjects):\")\n",
        "print(high_achievers)"
      ],
      "metadata": {
        "colab": {
          "base_uri": "https://localhost:8080/"
        },
        "id": "nO5wHzTM2Q9x",
        "outputId": "950ded7f-fb77-4384-95b7-46695ae20cd4"
      },
      "execution_count": 17,
      "outputs": [
        {
          "output_type": "stream",
          "name": "stdout",
          "text": [
            "High Achievers (scored > 75 in all subjects):\n",
            "   Student_ID    Name   Math  Science  English\n",
            "0         101   Aarav  85.00    78.00    92.00\n",
            "1         102    Isha  90.00    82.75    88.00\n",
            "3         104  Ananya  82.25    76.00    81.00\n",
            "4         105  Aditya  88.00    91.00    77.00\n",
            "5         106   Divya  95.00    89.00    94.00\n",
            "7         108  Saanvi  78.00    85.00    80.00\n",
            "8         109   Arjun  82.00    79.00    84.25\n",
            "9         110   Meera  82.25    84.00    90.00\n"
          ]
        }
      ]
    },
    {
      "cell_type": "markdown",
      "source": [
        "**2.Hospital Patient Records**\n"
      ],
      "metadata": {
        "id": "W76Ed_7r7sWG"
      }
    },
    {
      "cell_type": "code",
      "source": [
        "import pandas as pd"
      ],
      "metadata": {
        "id": "KOPy6zZi7tEO"
      },
      "execution_count": 18,
      "outputs": []
    },
    {
      "cell_type": "code",
      "source": [
        "# Load the dataset\n",
        "df = pd.read_csv(\"patients.csv\")\n",
        "\n",
        "print(\"Original Data:\")\n",
        "print(df, \"\\n\")"
      ],
      "metadata": {
        "colab": {
          "base_uri": "https://localhost:8080/"
        },
        "id": "aGZlj0ri7xeL",
        "outputId": "df98fb7d-41f2-4992-cc81-9e0648a6cff3"
      },
      "execution_count": 22,
      "outputs": [
        {
          "output_type": "stream",
          "name": "stdout",
          "text": [
            "Original Data:\n",
            "  Patient_ID     Name   Age  Gender      Diagnosis Admission_Date\n",
            "0       P101    Meera  55.0  Female       Diabetes      3/12/2025\n",
            "1       P102    Aarav   NaN    Male   Hypertension      2/18/2025\n",
            "2       P103   Ananya   NaN  Female       Diabetes      1/25/2025\n",
            "3       P104  Krishna  47.0    Male         Asthma       3/5/2025\n",
            "4       P105   Saanvi  72.0  Female       Diabetes      2/10/2025\n",
            "5       P106   Aditya  34.0    Male       Fracture      3/19/2025\n",
            "6       P107     Isha   NaN  Female       Diabetes      1/15/2025\n",
            "7       P108   Vihaan  50.0    Male  Heart Disease      2/28/2025\n",
            "8       P109     Diya   NaN  Female   Hypertension       3/2/2025\n",
            "9       P110    Arjun  66.0    Male       Diabetes      3/14/2025 \n",
            "\n"
          ]
        }
      ]
    },
    {
      "cell_type": "code",
      "source": [
        "# Replace missing Age values with the median\n",
        "median_age = df['Age'].median()\n",
        "df['Age'] = df['Age'].fillna(median_age)\n",
        "\n",
        "print(\"After Filling Missing Ages with Median:\")\n",
        "print(df, \"\\n\")"
      ],
      "metadata": {
        "colab": {
          "base_uri": "https://localhost:8080/"
        },
        "id": "Q03v-49771JG",
        "outputId": "76fed193-a047-4c63-d2cb-50b625d9ca5a"
      },
      "execution_count": 23,
      "outputs": [
        {
          "output_type": "stream",
          "name": "stdout",
          "text": [
            "After Filling Missing Ages with Median:\n",
            "  Patient_ID     Name   Age  Gender      Diagnosis Admission_Date\n",
            "0       P101    Meera  55.0  Female       Diabetes      3/12/2025\n",
            "1       P102    Aarav  52.5    Male   Hypertension      2/18/2025\n",
            "2       P103   Ananya  52.5  Female       Diabetes      1/25/2025\n",
            "3       P104  Krishna  47.0    Male         Asthma       3/5/2025\n",
            "4       P105   Saanvi  72.0  Female       Diabetes      2/10/2025\n",
            "5       P106   Aditya  34.0    Male       Fracture      3/19/2025\n",
            "6       P107     Isha  52.5  Female       Diabetes      1/15/2025\n",
            "7       P108   Vihaan  50.0    Male  Heart Disease      2/28/2025\n",
            "8       P109     Diya  52.5  Female   Hypertension       3/2/2025\n",
            "9       P110    Arjun  66.0    Male       Diabetes      3/14/2025 \n",
            "\n"
          ]
        }
      ]
    },
    {
      "cell_type": "code",
      "source": [
        "# Filter elderly female patients diagnosed with Diabetes (Age > 50, Gender = Female, Diagnosis = Diabetes)\n",
        "elderly_female_diabetes = df[\n",
        "    (df['Gender'] == 'Female') &\n",
        "    (df['Age'] > 50) &\n",
        "    (df['Diagnosis'].str.lower() == 'diabetes')\n",
        "]\n",
        "\n",
        "print(\"Elderly Female Patients with Diabetes:\")\n",
        "print(elderly_female_diabetes, \"\\n\")\n"
      ],
      "metadata": {
        "colab": {
          "base_uri": "https://localhost:8080/"
        },
        "id": "kzudnbqq74zL",
        "outputId": "66eb606e-5e60-47f0-b4df-83ab5afaab25"
      },
      "execution_count": 24,
      "outputs": [
        {
          "output_type": "stream",
          "name": "stdout",
          "text": [
            "Elderly Female Patients with Diabetes:\n",
            "  Patient_ID    Name   Age  Gender Diagnosis Admission_Date\n",
            "0       P101   Meera  55.0  Female  Diabetes      3/12/2025\n",
            "2       P103  Ananya  52.5  Female  Diabetes      1/25/2025\n",
            "4       P105  Saanvi  72.0  Female  Diabetes      2/10/2025\n",
            "6       P107    Isha  52.5  Female  Diabetes      1/15/2025 \n",
            "\n"
          ]
        }
      ]
    }
  ]
}